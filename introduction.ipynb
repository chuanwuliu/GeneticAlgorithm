{
 "cells": [
  {
   "cell_type": "markdown",
   "metadata": {
    "deletable": true,
    "editable": true
   },
   "source": [
    "# Genetic algorithm\n",
    "\n",
    "Genetic algorithms are a type of optimization algorithm. They are used to find\n",
    "the optimal solution(s) to a given computational problem that maximizes or minimizes a\n",
    "particular function.\n",
    "\n",
    "### Basic Components:\n",
    "   * A population of chromosomes\n",
    "   * A fitness function for optimization\n",
    "   * Selection method of based on fitness.\n",
    "   * Reproduction, e.g. Crossover/Recomination.\n",
    "   * Mutation of chromosomes in new generation"
   ]
  },
  {
   "cell_type": "markdown",
   "metadata": {
    "deletable": true,
    "editable": true
   },
   "source": [
    "### A population\n",
    "A typically chromosome is encoded as an N-element array. chromosome = [p1, p2, ..., pN]\n",
    "    \n",
    "   * binary genetic algorithm: [1, 0, 1, 0, 1, 1]\n",
    "   * Continuous genetic algorithm: [v1, v2, v3, v4, v5, v6]\n",
    "    \n",
    "The first population of chromosome is randomly generated."
   ]
  },
  {
   "cell_type": "markdown",
   "metadata": {
    "deletable": true,
    "editable": true
   },
   "source": [
    "### Fitness\n",
    "The population is tested by Fitness function"
   ]
  },
  {
   "cell_type": "markdown",
   "metadata": {
    "deletable": true,
    "editable": true
   },
   "source": [
    "### Selection\n",
    "A selection operator chooses some of the chromosomes for reproduction based on\n",
    "a probability distribution defined by the user. The fitter a chromosome is, the more likely it\n",
    "is to be selected."
   ]
  },
  {
   "cell_type": "markdown",
   "metadata": {
    "deletable": true,
    "editable": true
   },
   "source": [
    "### Cross over or recombination\n",
    "<img src = \"OnePointCrossover.png\"  width=\"400\">\n",
    "\n",
    "\n",
    "Second generation can be composed:\n",
    "   * Entirely of new offsprings the first generation is completely replaced, or\n",
    "   * Some fittest members of first generation survive into the second generation."
   ]
  },
  {
   "cell_type": "markdown",
   "metadata": {
    "deletable": true,
    "editable": true
   },
   "source": [
    "### Mutation\n",
    "Mutation operator randomly flips individual bits in the new chromosomes. Typically mutation happens with a very\n",
    "low probability. The mutation helps protect against getting stuck at a local optimum by maintaining diversity in the\n",
    "population."
   ]
  },
  {
   "cell_type": "markdown",
   "metadata": {
    "deletable": true,
    "editable": true
   },
   "source": [
    "### Iteration\n",
    "Above procedures are iterated until\n",
    "   * the fitness value of the “best-so-far” chromosome stabilizes and does not change for many generations.\n",
    "   * the fitness value satisfies the accuracy requirement.\n",
    "   * A maximum iteration or run time is reched."
   ]
  },
  {
   "cell_type": "markdown",
   "metadata": {
    "deletable": true,
    "editable": true
   },
   "source": [
    "### Examples:\n",
    "   * Machines learn to walk: https://www.youtube.com/watch?v=pgaEE27nsQw\n",
    "   * Machine learns to jump a ball: https://www.youtube.com/watch?v=Gl3EjiVlz_4"
   ]
  },
  {
   "cell_type": "markdown",
   "metadata": {},
   "source": [
    "### Some thinkings about human socity:\n",
    "   * The optimisation results highly depend on the fitness function. In human socity, how to find a good fitness function is a critical question.\n",
    "   * The mutation/diversity of the society is crucial to avoid the local maxima and to achieve a global optimisation."
   ]
  }
 ],
 "metadata": {
  "kernelspec": {
   "display_name": "Python 3",
   "language": "python",
   "name": "python3"
  },
  "language_info": {
   "codemirror_mode": {
    "name": "ipython",
    "version": 3
   },
   "file_extension": ".py",
   "mimetype": "text/x-python",
   "name": "python",
   "nbconvert_exporter": "python",
   "pygments_lexer": "ipython3",
   "version": "3.6.0"
  }
 },
 "nbformat": 4,
 "nbformat_minor": 2
}
